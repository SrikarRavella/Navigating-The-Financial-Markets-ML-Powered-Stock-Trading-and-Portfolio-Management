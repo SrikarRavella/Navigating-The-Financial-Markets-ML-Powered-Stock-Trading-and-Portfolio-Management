{
  "nbformat": 4,
  "nbformat_minor": 0,
  "metadata": {
    "colab": {
      "provenance": []
    },
    "kernelspec": {
      "name": "python3",
      "display_name": "Python 3"
    },
    "language_info": {
      "name": "python"
    }
  },
  "cells": [
    {
      "cell_type": "markdown",
      "source": [
        "Import Libraries"
      ],
      "metadata": {
        "id": "O8aZa3Ohs07W"
      }
    },
    {
      "cell_type": "code",
      "source": [
        "import tensorflow as tf\n",
        "import numpy as np\n",
        "import pandas as pd\n",
        "import matplotlib.pyplot as plt"
      ],
      "metadata": {
        "id": "aMyOi4qrs1lA"
      },
      "execution_count": null,
      "outputs": []
    },
    {
      "cell_type": "code",
      "source": [
        "def calculate_ema(data, window_size):\n",
        "    weights = np.exp(np.linspace(-1.0, 0.0, window_size))\n",
        "    weights /= weights.sum()\n",
        "    ema = np.convolve(data, weights, mode='full')[:len(data)]\n",
        "    ema[:window_size - 1] = ema[window_size - 1]\n",
        "    return ema\n",
        "\n",
        "def calculate_std(data, window_size):\n",
        "    return np.std(data - pd.Series(data).rolling(window=window_size).mean(), ddof=0)\n"
      ],
      "metadata": {
        "id": "K8lghoPktEVq"
      },
      "execution_count": null,
      "outputs": []
    },
    {
      "cell_type": "markdown",
      "source": [
        "Generating Signals\n"
      ],
      "metadata": {
        "id": "VJl9-7dotHXD"
      }
    },
    {
      "cell_type": "code",
      "source": [
        "def generate_signals(price_data, ema_window, std_window):\n",
        "    ema = calculate_ema(price_data, ema_window)\n",
        "    std = calculate_std(price_data, std_window)\n",
        "\n",
        "    signals = np.zeros_like(price_data)\n",
        "    signals[price_data > ema + 2 * std] = -1  # Sell signal\n",
        "    signals[price_data < ema - 2 * std] = 1   # Buy signal\n",
        "\n",
        "    return signals"
      ],
      "metadata": {
        "id": "Q8GcxqEztJi0"
      },
      "execution_count": null,
      "outputs": []
    },
    {
      "cell_type": "code",
      "source": [
        "def build_and_train_model(X_train, y_train):\n",
        "    model = tf.keras.Sequential([\n",
        "        tf.keras.layers.Dense(10, input_shape=(X_train.shape[1],), activation='relu'),\n",
        "        tf.keras.layers.Dense(1, activation='sigmoid')\n",
        "    ])\n",
        "\n",
        "    model.compile(optimizer='adam', loss='binary_crossentropy', metrics=['accuracy'])\n",
        "    model.fit(X_train, y_train, epochs=10, batch_size=32)\n",
        "\n",
        "    return model\n"
      ],
      "metadata": {
        "id": "EqCXON_utOQ5"
      },
      "execution_count": null,
      "outputs": []
    },
    {
      "cell_type": "markdown",
      "source": [
        "Risk Management Function for portfolio"
      ],
      "metadata": {
        "id": "iYe7JFQPtLrQ"
      }
    },
    {
      "cell_type": "code",
      "source": [
        "def apply_risk_management(positions, price_data, risk_percent=0.02):\n",
        "    capital = 100000  # Initial capital\n",
        "    position_size = capital * risk_percent\n",
        "\n",
        "    current_position = 0\n",
        "    entry_price = 0\n",
        "\n",
        "    equity_curve = []\n",
        "\n",
        "    for i in range(len(positions)):\n",
        "        if positions[i] == 1 and current_position == 0:  # Buy signal\n",
        "            entry_price = price_data[i]\n",
        "            current_position = position_size / entry_price\n",
        "            equity_curve.append(capital)\n",
        "        elif positions[i] == -1 and current_position > 0:  # Sell signal\n",
        "            exit_price = price_data[i]\n",
        "            capital = current_position * exit_price\n",
        "            current_position = 0\n",
        "            equity_curve.append(capital)\n",
        "        else:\n",
        "            equity_curve.append(capital)\n",
        "\n",
        "    return np.array(equity_curve)\n"
      ],
      "metadata": {
        "id": "atUVuy4WtTaE"
      },
      "execution_count": null,
      "outputs": []
    },
    {
      "cell_type": "code",
      "source": [
        "# Read training data from CSV file\n",
        "training_data = pd.read_csv('training_data.csv')\n",
        "training_price_data = training_data['Close'].values\n"
      ],
      "metadata": {
        "id": "E8E-t8r8tVzd"
      },
      "execution_count": null,
      "outputs": []
    },
    {
      "cell_type": "code",
      "source": [
        "# Use signals to train the model\n",
        "ema_window_size = 20\n",
        "std_window_size = 20\n",
        "\n",
        "training_signals = generate_signals(training_price_data, ema_window_size, std_window_size)\n",
        "\n",
        "X_train = np.column_stack([training_price_data, calculate_ema(training_price_data, ema_window_size)])\n",
        "y_train = np.where(training_signals == 1, 1, 0)\n",
        "\n",
        "model = build_and_train_model(X_train, y_train)\n"
      ],
      "metadata": {
        "id": "A6MWsqXUtXry"
      },
      "execution_count": null,
      "outputs": []
    },
    {
      "cell_type": "code",
      "source": [
        "# Read new data from CSV file\n",
        "new_data = pd.read_csv('new_data.csv')\n",
        "new_price_data = new_data['Close'].values\n"
      ],
      "metadata": {
        "id": "OvEiOePStbmV"
      },
      "execution_count": null,
      "outputs": []
    },
    {
      "cell_type": "code",
      "source": [
        "# Execute the strategy on new data\n",
        "new_signals = generate_signals(new_price_data, ema_window_size, std_window_size)\n",
        "new_positions = execute_strategy(model, new_signals)\n"
      ],
      "metadata": {
        "id": "oaMn8uGatch7"
      },
      "execution_count": null,
      "outputs": []
    },
    {
      "cell_type": "code",
      "source": [
        "# Execute the strategy with risk management on new data\n",
        "new_equity_curve = apply_risk_management(new_positions, new_price_data)\n",
        "\n",
        "# Visualize the results\n",
        "plt.plot(new_price_data, label='Price Data')\n",
        "plt.scatter(np.where(new_positions == 1)[0], new_price_data[new_positions == 1], marker='^', color='g', label='Buy Signal')\n",
        "plt.scatter(np.where(new_positions == -1)[0], new_price_data[new_positions == -1], marker='v', color='r', label='Sell Signal')\n",
        "plt.legend()\n",
        "plt.show()\n",
        "\n",
        "# Visualize the equity curve with risk management\n",
        "plt.plot(new_equity_curve, label='Equity Curve')\n",
        "plt.legend()\n",
        "plt.xlabel('Trade')\n",
        "plt.ylabel('Capital')\n",
        "plt.title('Equity Curve with Risk Management')\n",
        "plt.show()"
      ],
      "metadata": {
        "id": "S-8wyQ4ytf9_"
      },
      "execution_count": null,
      "outputs": []
    }
  ]
}